{
 "cells": [
  {
   "cell_type": "code",
   "execution_count": 1,
   "id": "57f3f3ad",
   "metadata": {},
   "outputs": [],
   "source": [
    "import pandas as pd\n",
    "import nltk\n",
    "#nltk.download('stopwords')\n",
    "#nltk.download('punkt')\n",
    "#nltk.download('wordnet')\n",
    "from nltk.corpus import stopwords  #stopwords\n",
    "from nltk.stem import WordNetLemmatizer  \n",
    "from sklearn.feature_extraction.text import TfidfVectorizer\n",
    "stop_words=set(nltk.corpus.stopwords.words('english'))\n"
   ]
  },
  {
   "cell_type": "code",
   "execution_count": 2,
   "id": "7ea5e645",
   "metadata": {},
   "outputs": [
    {
     "data": {
      "text/html": [
       "<div>\n",
       "<style scoped>\n",
       "    .dataframe tbody tr th:only-of-type {\n",
       "        vertical-align: middle;\n",
       "    }\n",
       "\n",
       "    .dataframe tbody tr th {\n",
       "        vertical-align: top;\n",
       "    }\n",
       "\n",
       "    .dataframe thead th {\n",
       "        text-align: right;\n",
       "    }\n",
       "</style>\n",
       "<table border=\"1\" class=\"dataframe\">\n",
       "  <thead>\n",
       "    <tr style=\"text-align: right;\">\n",
       "      <th></th>\n",
       "      <th>review_name</th>\n",
       "      <th>review_text</th>\n",
       "      <th>review_stars_val</th>\n",
       "      <th>review_name_val</th>\n",
       "      <th>review_date</th>\n",
       "    </tr>\n",
       "  </thead>\n",
       "  <tbody>\n",
       "    <tr>\n",
       "      <th>0</th>\n",
       "      <td>青木洋一</td>\n",
       "      <td>Car chair?\\n\\nWhere to visit?</td>\n",
       "      <td>Rated 3.0 out of 5,</td>\n",
       "      <td>3</td>\n",
       "      <td>a year ago</td>\n",
       "    </tr>\n",
       "    <tr>\n",
       "      <th>1</th>\n",
       "      <td>SeAmMia Wang</td>\n",
       "      <td>a beautiful place.</td>\n",
       "      <td>Rated 5.0 out of 5,</td>\n",
       "      <td>5</td>\n",
       "      <td>3 years ago</td>\n",
       "    </tr>\n",
       "    <tr>\n",
       "      <th>2</th>\n",
       "      <td>Chloe Leo</td>\n",
       "      <td>aesthetic, af</td>\n",
       "      <td>Rated 5.0 out of 5,</td>\n",
       "      <td>5</td>\n",
       "      <td>3 years ago</td>\n",
       "    </tr>\n",
       "    <tr>\n",
       "      <th>3</th>\n",
       "      <td>Xin Cen</td>\n",
       "      <td>Although I have to walk a long time from the c...</td>\n",
       "      <td>Rated 4.0 out of 5,</td>\n",
       "      <td>4</td>\n",
       "      <td>3 years ago</td>\n",
       "    </tr>\n",
       "    <tr>\n",
       "      <th>4</th>\n",
       "      <td>Siu Mou Hie</td>\n",
       "      <td>Ancient and modern architecture, remembering h...</td>\n",
       "      <td>Rated 5.0 out of 5,</td>\n",
       "      <td>5</td>\n",
       "      <td>2 years ago</td>\n",
       "    </tr>\n",
       "  </tbody>\n",
       "</table>\n",
       "</div>"
      ],
      "text/plain": [
       "    review_name                                        review_text  \\\n",
       "0          青木洋一                      Car chair?\\n\\nWhere to visit?   \n",
       "1  SeAmMia Wang                                 a beautiful place.   \n",
       "2     Chloe Leo                                      aesthetic, af   \n",
       "3       Xin Cen  Although I have to walk a long time from the c...   \n",
       "4   Siu Mou Hie  Ancient and modern architecture, remembering h...   \n",
       "\n",
       "      review_stars_val  review_name_val  review_date  \n",
       "0  Rated 3.0 out of 5,                3   a year ago  \n",
       "1  Rated 5.0 out of 5,                5  3 years ago  \n",
       "2  Rated 5.0 out of 5,                5  3 years ago  \n",
       "3  Rated 4.0 out of 5,                4  3 years ago  \n",
       "4  Rated 5.0 out of 5,                5  2 years ago  "
      ]
     },
     "execution_count": 2,
     "metadata": {},
     "output_type": "execute_result"
    }
   ],
   "source": [
    "df = pd.read_excel(r'C:\\Users\\zengg\\Documents\\2 term special project\\cleandata20220127\\victoriaconcerthall.xlsx')\n",
    "df.head()"
   ]
  },
  {
   "cell_type": "code",
   "execution_count": 3,
   "id": "bf15115d",
   "metadata": {},
   "outputs": [],
   "source": [
    "from nltk.tokenize import word_tokenize\n",
    "def clean_text(headline):\n",
    "      le=WordNetLemmatizer()\n",
    "      word_tokens=word_tokenize(headline)\n",
    "      tokens=[le.lemmatize(w) for w in word_tokens if w not in stop_words and len(w)>3]\n",
    "      cleaned_text=\" \".join(tokens)\n",
    "      return cleaned_text\n",
    "df['cleaned_text']=df['review_text'].apply(clean_text)"
   ]
  },
  {
   "cell_type": "code",
   "execution_count": 4,
   "id": "bf83daa3",
   "metadata": {},
   "outputs": [
    {
     "data": {
      "text/html": [
       "<div>\n",
       "<style scoped>\n",
       "    .dataframe tbody tr th:only-of-type {\n",
       "        vertical-align: middle;\n",
       "    }\n",
       "\n",
       "    .dataframe tbody tr th {\n",
       "        vertical-align: top;\n",
       "    }\n",
       "\n",
       "    .dataframe thead th {\n",
       "        text-align: right;\n",
       "    }\n",
       "</style>\n",
       "<table border=\"1\" class=\"dataframe\">\n",
       "  <thead>\n",
       "    <tr style=\"text-align: right;\">\n",
       "      <th></th>\n",
       "      <th>review_name</th>\n",
       "      <th>review_text</th>\n",
       "      <th>review_stars_val</th>\n",
       "      <th>review_name_val</th>\n",
       "      <th>review_date</th>\n",
       "      <th>cleaned_text</th>\n",
       "    </tr>\n",
       "  </thead>\n",
       "  <tbody>\n",
       "    <tr>\n",
       "      <th>0</th>\n",
       "      <td>青木洋一</td>\n",
       "      <td>Car chair?\\n\\nWhere to visit?</td>\n",
       "      <td>Rated 3.0 out of 5,</td>\n",
       "      <td>3</td>\n",
       "      <td>a year ago</td>\n",
       "      <td>chair Where visit</td>\n",
       "    </tr>\n",
       "    <tr>\n",
       "      <th>1</th>\n",
       "      <td>SeAmMia Wang</td>\n",
       "      <td>a beautiful place.</td>\n",
       "      <td>Rated 5.0 out of 5,</td>\n",
       "      <td>5</td>\n",
       "      <td>3 years ago</td>\n",
       "      <td>beautiful place</td>\n",
       "    </tr>\n",
       "    <tr>\n",
       "      <th>2</th>\n",
       "      <td>Chloe Leo</td>\n",
       "      <td>aesthetic, af</td>\n",
       "      <td>Rated 5.0 out of 5,</td>\n",
       "      <td>5</td>\n",
       "      <td>3 years ago</td>\n",
       "      <td>aesthetic</td>\n",
       "    </tr>\n",
       "    <tr>\n",
       "      <th>3</th>\n",
       "      <td>Xin Cen</td>\n",
       "      <td>Although I have to walk a long time from the c...</td>\n",
       "      <td>Rated 4.0 out of 5,</td>\n",
       "      <td>4</td>\n",
       "      <td>3 years ago</td>\n",
       "      <td>Although walk long time city hall subway stati...</td>\n",
       "    </tr>\n",
       "    <tr>\n",
       "      <th>4</th>\n",
       "      <td>Siu Mou Hie</td>\n",
       "      <td>Ancient and modern architecture, remembering h...</td>\n",
       "      <td>Rated 5.0 out of 5,</td>\n",
       "      <td>5</td>\n",
       "      <td>2 years ago</td>\n",
       "      <td>Ancient modern architecture remembering history</td>\n",
       "    </tr>\n",
       "  </tbody>\n",
       "</table>\n",
       "</div>"
      ],
      "text/plain": [
       "    review_name                                        review_text  \\\n",
       "0          青木洋一                      Car chair?\\n\\nWhere to visit?   \n",
       "1  SeAmMia Wang                                 a beautiful place.   \n",
       "2     Chloe Leo                                      aesthetic, af   \n",
       "3       Xin Cen  Although I have to walk a long time from the c...   \n",
       "4   Siu Mou Hie  Ancient and modern architecture, remembering h...   \n",
       "\n",
       "      review_stars_val  review_name_val  review_date  \\\n",
       "0  Rated 3.0 out of 5,                3   a year ago   \n",
       "1  Rated 5.0 out of 5,                5  3 years ago   \n",
       "2  Rated 5.0 out of 5,                5  3 years ago   \n",
       "3  Rated 4.0 out of 5,                4  3 years ago   \n",
       "4  Rated 5.0 out of 5,                5  2 years ago   \n",
       "\n",
       "                                        cleaned_text  \n",
       "0                                  chair Where visit  \n",
       "1                                    beautiful place  \n",
       "2                                          aesthetic  \n",
       "3  Although walk long time city hall subway stati...  \n",
       "4    Ancient modern architecture remembering history  "
      ]
     },
     "execution_count": 4,
     "metadata": {},
     "output_type": "execute_result"
    }
   ],
   "source": [
    "df.head()"
   ]
  },
  {
   "cell_type": "code",
   "execution_count": 5,
   "id": "60aa3291",
   "metadata": {},
   "outputs": [],
   "source": [
    "vect =TfidfVectorizer(stop_words=stop_words,max_features=10000)\n",
    "vect_text=vect.fit_transform(df['cleaned_text'])"
   ]
  },
  {
   "cell_type": "code",
   "execution_count": 8,
   "id": "55979dbc",
   "metadata": {},
   "outputs": [
    {
     "name": "stdout",
     "output_type": "stream",
     "text": [
      "Overall Topic 0: \n",
      "nice n\n",
      "place n\n",
      "beautiful n\n",
      "concert n\n",
      "building n\n",
      "great n\n",
      "good n\n",
      "hall n\n",
      "wonderful n\n",
      "performance n\n",
      "Overall Topic 1: \n",
      "place n\n",
      "beautiful n\n",
      "great n\n",
      "singapore n\n",
      "theater n\n",
      "concert n\n",
      "visit n\n",
      "went n\n",
      "art n\n",
      "architecture n\n"
     ]
    }
   ],
   "source": [
    "keyword=10\n",
    "vocab = vect.get_feature_names()\n",
    "for i, comp in enumerate(lda_model.components_):\n",
    "     vocab_comp = zip(vocab, comp)\n",
    "     sorted_words = sorted(vocab_comp, key= lambda x:x[1], reverse=True)[:keyword]\n",
    "     print(\"Overall Topic \"+str(i)+\": \")\n",
    "     for t in sorted_words:\n",
    "            print(t[0],end=\" \")\n",
    "            print(\"n\")"
   ]
  },
  {
   "cell_type": "code",
   "execution_count": 24,
   "id": "75b3a22a",
   "metadata": {},
   "outputs": [],
   "source": [
    "topic=2\n",
    "from sklearn.decomposition import LatentDirichletAllocation\n",
    "lda_model=LatentDirichletAllocation(n_components=topic,\n",
    "learning_method='online',random_state=42,max_iter=1) \n",
    "lda_top=lda_model.fit_transform(vect_text)"
   ]
  },
  {
   "cell_type": "code",
   "execution_count": 25,
   "id": "868b1a79",
   "metadata": {},
   "outputs": [
    {
     "name": "stdout",
     "output_type": "stream",
     "text": [
      "Overall Document: \n",
      "Topic  0 :  14.975471119902247 %\n",
      "Topic  1 :  69.81311529388262 %\n",
      "Topic  2 :  15.21141358621513 %\n"
     ]
    }
   ],
   "source": [
    "print(\"Overall Document: \")\n",
    "for i,topic in enumerate(lda_top[0]):\n",
    "  print(\"Topic \",i,\": \",topic*100,\"%\")"
   ]
  },
  {
   "cell_type": "code",
   "execution_count": 26,
   "id": "c5679902",
   "metadata": {},
   "outputs": [
    {
     "data": {
      "text/html": [
       "<div>\n",
       "<style scoped>\n",
       "    .dataframe tbody tr th:only-of-type {\n",
       "        vertical-align: middle;\n",
       "    }\n",
       "\n",
       "    .dataframe tbody tr th {\n",
       "        vertical-align: top;\n",
       "    }\n",
       "\n",
       "    .dataframe thead th {\n",
       "        text-align: right;\n",
       "    }\n",
       "</style>\n",
       "<table border=\"1\" class=\"dataframe\">\n",
       "  <thead>\n",
       "    <tr style=\"text-align: right;\">\n",
       "      <th></th>\n",
       "      <th>review_name</th>\n",
       "      <th>review_text</th>\n",
       "      <th>review_stars_val</th>\n",
       "      <th>review_name_val</th>\n",
       "      <th>review_date</th>\n",
       "      <th>cleaned_text</th>\n",
       "    </tr>\n",
       "  </thead>\n",
       "  <tbody>\n",
       "    <tr>\n",
       "      <th>1</th>\n",
       "      <td>SeAmMia Wang</td>\n",
       "      <td>a beautiful place.</td>\n",
       "      <td>Rated 5.0 out of 5,</td>\n",
       "      <td>5</td>\n",
       "      <td>3 years ago</td>\n",
       "      <td>beautiful place</td>\n",
       "    </tr>\n",
       "    <tr>\n",
       "      <th>2</th>\n",
       "      <td>Chloe Leo</td>\n",
       "      <td>aesthetic, af</td>\n",
       "      <td>Rated 5.0 out of 5,</td>\n",
       "      <td>5</td>\n",
       "      <td>3 years ago</td>\n",
       "      <td>aesthetic</td>\n",
       "    </tr>\n",
       "    <tr>\n",
       "      <th>3</th>\n",
       "      <td>Xin Cen</td>\n",
       "      <td>Although I have to walk a long time from the c...</td>\n",
       "      <td>Rated 4.0 out of 5,</td>\n",
       "      <td>4</td>\n",
       "      <td>3 years ago</td>\n",
       "      <td>Although walk long time city hall subway stati...</td>\n",
       "    </tr>\n",
       "    <tr>\n",
       "      <th>4</th>\n",
       "      <td>Siu Mou Hie</td>\n",
       "      <td>Ancient and modern architecture, remembering h...</td>\n",
       "      <td>Rated 5.0 out of 5,</td>\n",
       "      <td>5</td>\n",
       "      <td>2 years ago</td>\n",
       "      <td>Ancient modern architecture remembering history</td>\n",
       "    </tr>\n",
       "    <tr>\n",
       "      <th>5</th>\n",
       "      <td>ANDY HENG</td>\n",
       "      <td>Antique building, very beautiful...</td>\n",
       "      <td>Rated 5.0 out of 5,</td>\n",
       "      <td>5</td>\n",
       "      <td>a year ago</td>\n",
       "      <td>Antique building beautiful</td>\n",
       "    </tr>\n",
       "  </tbody>\n",
       "</table>\n",
       "</div>"
      ],
      "text/plain": [
       "    review_name                                        review_text  \\\n",
       "1  SeAmMia Wang                                 a beautiful place.   \n",
       "2     Chloe Leo                                      aesthetic, af   \n",
       "3       Xin Cen  Although I have to walk a long time from the c...   \n",
       "4   Siu Mou Hie  Ancient and modern architecture, remembering h...   \n",
       "5     ANDY HENG                Antique building, very beautiful...   \n",
       "\n",
       "      review_stars_val  review_name_val  review_date  \\\n",
       "1  Rated 5.0 out of 5,                5  3 years ago   \n",
       "2  Rated 5.0 out of 5,                5  3 years ago   \n",
       "3  Rated 4.0 out of 5,                4  3 years ago   \n",
       "4  Rated 5.0 out of 5,                5  2 years ago   \n",
       "5  Rated 5.0 out of 5,                5   a year ago   \n",
       "\n",
       "                                        cleaned_text  \n",
       "1                                    beautiful place  \n",
       "2                                          aesthetic  \n",
       "3  Although walk long time city hall subway stati...  \n",
       "4    Ancient modern architecture remembering history  \n",
       "5                         Antique building beautiful  "
      ]
     },
     "execution_count": 26,
     "metadata": {},
     "output_type": "execute_result"
    }
   ],
   "source": [
    "#good review\n",
    "df_good= df.loc[df['review_name_val'] >= 4]\n",
    "df_good.head()"
   ]
  },
  {
   "cell_type": "code",
   "execution_count": 27,
   "id": "f4e35090",
   "metadata": {},
   "outputs": [],
   "source": [
    "vect =TfidfVectorizer(stop_words=stop_words,max_features=10000)\n",
    "vect_text_good=vect.fit_transform(df_good['cleaned_text'])"
   ]
  },
  {
   "cell_type": "code",
   "execution_count": 28,
   "id": "1e40172d",
   "metadata": {},
   "outputs": [],
   "source": [
    "topic=2\n",
    "from sklearn.decomposition import LatentDirichletAllocation\n",
    "lda_model=LatentDirichletAllocation(n_components=topic,\n",
    "learning_method='online',random_state=42,max_iter=1) \n",
    "lda_top_good=lda_model.fit_transform(vect_text_good)"
   ]
  },
  {
   "cell_type": "code",
   "execution_count": 29,
   "id": "b4503b17",
   "metadata": {},
   "outputs": [
    {
     "name": "stdout",
     "output_type": "stream",
     "text": [
      "Positive Document: \n",
      "Topic  0 :  65.0477866357338 %\n",
      "Topic  1 :  34.952213364266186 %\n"
     ]
    }
   ],
   "source": [
    "print(\"Positive Document: \")\n",
    "for i,topic in enumerate(lda_top_good[0]):\n",
    "  print(\"Topic \",i,\": \",topic*100,\"%\")"
   ]
  },
  {
   "cell_type": "code",
   "execution_count": 30,
   "id": "969e2f6e",
   "metadata": {},
   "outputs": [
    {
     "name": "stdout",
     "output_type": "stream",
     "text": [
      "Positive Topic0: \n",
      "我晚上过去拍视频非常漂亮的19世纪的建筑 n\n",
      "beautiful n\n",
      "great n\n",
      "building n\n",
      "concert n\n",
      "place n\n",
      "theatre n\n",
      "performance n\n",
      "venue n\n",
      "acoustic n\n",
      "Positive Topic1: \n",
      "我晚上过去拍视频非常漂亮的19世纪的建筑 n\n",
      "nice n\n",
      "place n\n",
      "good n\n",
      "architecture n\n",
      "beautiful n\n",
      "hall n\n",
      "great n\n",
      "concert n\n",
      "lovely n\n"
     ]
    }
   ],
   "source": [
    "vocab = vect.get_feature_names()\n",
    "for i, comp in enumerate(lda_model.components_):\n",
    "     vocab_comp = zip(vocab, comp)\n",
    "     sorted_words = sorted(vocab_comp, key= lambda x:x[1], reverse=True)[:keyword]\n",
    "     print(\"Positive Topic\"+str(i)+\": \")\n",
    "     for t in sorted_words:\n",
    "            print(t[0],end=\" \")\n",
    "            print(\"n\")"
   ]
  },
  {
   "cell_type": "code",
   "execution_count": 31,
   "id": "a3d2e6ce",
   "metadata": {},
   "outputs": [
    {
     "data": {
      "text/html": [
       "<div>\n",
       "<style scoped>\n",
       "    .dataframe tbody tr th:only-of-type {\n",
       "        vertical-align: middle;\n",
       "    }\n",
       "\n",
       "    .dataframe tbody tr th {\n",
       "        vertical-align: top;\n",
       "    }\n",
       "\n",
       "    .dataframe thead th {\n",
       "        text-align: right;\n",
       "    }\n",
       "</style>\n",
       "<table border=\"1\" class=\"dataframe\">\n",
       "  <thead>\n",
       "    <tr style=\"text-align: right;\">\n",
       "      <th></th>\n",
       "      <th>review_name</th>\n",
       "      <th>review_text</th>\n",
       "      <th>review_stars_val</th>\n",
       "      <th>review_name_val</th>\n",
       "      <th>review_date</th>\n",
       "      <th>cleaned_text</th>\n",
       "    </tr>\n",
       "  </thead>\n",
       "  <tbody>\n",
       "    <tr>\n",
       "      <th>38</th>\n",
       "      <td>Jackson Tan</td>\n",
       "      <td>Passing by one of the few Gothic buildings in ...</td>\n",
       "      <td>Rated 1.0 out of 5,</td>\n",
       "      <td>1</td>\n",
       "      <td>2 years ago</td>\n",
       "      <td>Passing Gothic building Singapore</td>\n",
       "    </tr>\n",
       "    <tr>\n",
       "      <th>136</th>\n",
       "      <td>Liza Chan</td>\n",
       "      <td>Attended a concert at the Victoria Concert Hal...</td>\n",
       "      <td>Rated 1.0 out of 5,</td>\n",
       "      <td>1</td>\n",
       "      <td>2 years ago</td>\n",
       "      <td>Attended concert Victoria Concert Hall 2019 Sa...</td>\n",
       "    </tr>\n",
       "    <tr>\n",
       "      <th>248</th>\n",
       "      <td>Christian Carrillo Rodriguez</td>\n",
       "      <td>Fake Imperial comfort</td>\n",
       "      <td>Rated 1.0 out of 5,</td>\n",
       "      <td>1</td>\n",
       "      <td>3 years ago</td>\n",
       "      <td>Fake Imperial comfort</td>\n",
       "    </tr>\n",
       "    <tr>\n",
       "      <th>490</th>\n",
       "      <td>jiele lee</td>\n",
       "      <td>Nothing to see</td>\n",
       "      <td>Rated 2.0 out of 5,</td>\n",
       "      <td>2</td>\n",
       "      <td>2 years ago</td>\n",
       "      <td>Nothing</td>\n",
       "    </tr>\n",
       "    <tr>\n",
       "      <th>582</th>\n",
       "      <td>Kim Wee Chua</td>\n",
       "      <td>They have security staff going around telling ...</td>\n",
       "      <td>Rated 1.0 out of 5,</td>\n",
       "      <td>1</td>\n",
       "      <td>a year ago</td>\n",
       "      <td>They security staff going around telling every...</td>\n",
       "    </tr>\n",
       "  </tbody>\n",
       "</table>\n",
       "</div>"
      ],
      "text/plain": [
       "                      review_name  \\\n",
       "38                    Jackson Tan   \n",
       "136                     Liza Chan   \n",
       "248  Christian Carrillo Rodriguez   \n",
       "490                     jiele lee   \n",
       "582                  Kim Wee Chua   \n",
       "\n",
       "                                           review_text     review_stars_val  \\\n",
       "38   Passing by one of the few Gothic buildings in ...  Rated 1.0 out of 5,   \n",
       "136  Attended a concert at the Victoria Concert Hal...  Rated 1.0 out of 5,   \n",
       "248                              Fake Imperial comfort  Rated 1.0 out of 5,   \n",
       "490                                     Nothing to see  Rated 2.0 out of 5,   \n",
       "582  They have security staff going around telling ...  Rated 1.0 out of 5,   \n",
       "\n",
       "     review_name_val  review_date  \\\n",
       "38                 1  2 years ago   \n",
       "136                1  2 years ago   \n",
       "248                1  3 years ago   \n",
       "490                2  2 years ago   \n",
       "582                1   a year ago   \n",
       "\n",
       "                                          cleaned_text  \n",
       "38                   Passing Gothic building Singapore  \n",
       "136  Attended concert Victoria Concert Hall 2019 Sa...  \n",
       "248                              Fake Imperial comfort  \n",
       "490                                            Nothing  \n",
       "582  They security staff going around telling every...  "
      ]
     },
     "execution_count": 31,
     "metadata": {},
     "output_type": "execute_result"
    }
   ],
   "source": [
    "#bad review\n",
    "df_bad= df.loc[df['review_name_val'] <= 2]\n",
    "df_bad.head()"
   ]
  },
  {
   "cell_type": "code",
   "execution_count": 32,
   "id": "8b805190",
   "metadata": {},
   "outputs": [],
   "source": [
    "vect =TfidfVectorizer(stop_words=stop_words,max_features=10000)\n",
    "vect_text_bad=vect.fit_transform(df_bad['cleaned_text'])"
   ]
  },
  {
   "cell_type": "code",
   "execution_count": 33,
   "id": "ce9abf88",
   "metadata": {},
   "outputs": [],
   "source": [
    "topic=2\n",
    "from sklearn.decomposition import LatentDirichletAllocation\n",
    "lda_model=LatentDirichletAllocation(n_components=topic,\n",
    "learning_method='online',random_state=42,max_iter=1) \n",
    "lda_top_bad=lda_model.fit_transform(vect_text_bad)"
   ]
  },
  {
   "cell_type": "code",
   "execution_count": 34,
   "id": "2fb0fae6",
   "metadata": {},
   "outputs": [
    {
     "name": "stdout",
     "output_type": "stream",
     "text": [
      "Negative Document: \n",
      "Topic  0 :  28.504087585682854 %\n",
      "Topic  1 :  71.49591241431715 %\n"
     ]
    }
   ],
   "source": [
    "print(\"Negative Document: \")\n",
    "for i,topic in enumerate(lda_top_bad[0]):\n",
    "  print(\"Topic \",i,\": \",topic*100,\"%\")"
   ]
  },
  {
   "cell_type": "code",
   "execution_count": 35,
   "id": "9365eb7f",
   "metadata": {},
   "outputs": [
    {
     "name": "stdout",
     "output_type": "stream",
     "text": [
      "Negative Topic 0: \n",
      "staff n\n",
      "nothing n\n",
      "taking n\n",
      "minute n\n",
      "imperial n\n",
      "away n\n",
      "total n\n",
      "collect n\n",
      "long n\n",
      "stop n\n",
      "Negative Topic 1: \n",
      "indeed n\n",
      "long n\n",
      "singapore n\n",
      "concert n\n",
      "reflection n\n",
      "attended n\n",
      "gothic n\n",
      "technology n\n",
      "saturday n\n",
      "staff n\n"
     ]
    }
   ],
   "source": [
    "vocab = vect.get_feature_names()\n",
    "for i, comp in enumerate(lda_model.components_):\n",
    "     vocab_comp = zip(vocab, comp)\n",
    "     sorted_words = sorted(vocab_comp, key= lambda x:x[1], reverse=True)[:keyword]\n",
    "     print(\"Negative Topic \"+str(i)+\": \")\n",
    "     for t in sorted_words:\n",
    "            print(t[0],end=\" \")\n",
    "            print(\"n\")"
   ]
  },
  {
   "cell_type": "code",
   "execution_count": 36,
   "id": "2cba23a1",
   "metadata": {},
   "outputs": [
    {
     "data": {
      "text/html": [
       "<div>\n",
       "<style scoped>\n",
       "    .dataframe tbody tr th:only-of-type {\n",
       "        vertical-align: middle;\n",
       "    }\n",
       "\n",
       "    .dataframe tbody tr th {\n",
       "        vertical-align: top;\n",
       "    }\n",
       "\n",
       "    .dataframe thead th {\n",
       "        text-align: right;\n",
       "    }\n",
       "</style>\n",
       "<table border=\"1\" class=\"dataframe\">\n",
       "  <thead>\n",
       "    <tr style=\"text-align: right;\">\n",
       "      <th></th>\n",
       "      <th>review_name</th>\n",
       "      <th>review_text</th>\n",
       "      <th>review_stars_val</th>\n",
       "      <th>review_name_val</th>\n",
       "      <th>review_date</th>\n",
       "      <th>cleaned_text</th>\n",
       "    </tr>\n",
       "  </thead>\n",
       "  <tbody>\n",
       "    <tr>\n",
       "      <th>0</th>\n",
       "      <td>青木洋一</td>\n",
       "      <td>Car chair?\\n\\nWhere to visit?</td>\n",
       "      <td>Rated 3.0 out of 5,</td>\n",
       "      <td>3</td>\n",
       "      <td>a year ago</td>\n",
       "      <td>chair Where visit</td>\n",
       "    </tr>\n",
       "    <tr>\n",
       "      <th>20</th>\n",
       "      <td>Tomoya Ogoshi</td>\n",
       "      <td>I didn't want to see the hall. . . Sorry. But ...</td>\n",
       "      <td>Rated 3.0 out of 5,</td>\n",
       "      <td>3</td>\n",
       "      <td>a year ago</td>\n",
       "      <td>want hall Sorry venerable building</td>\n",
       "    </tr>\n",
       "    <tr>\n",
       "      <th>21</th>\n",
       "      <td>Jessica Woods</td>\n",
       "      <td>I have seen too much of this building in Europ...</td>\n",
       "      <td>Rated 3.0 out of 5,</td>\n",
       "      <td>3</td>\n",
       "      <td>3 years ago</td>\n",
       "      <td>seen much building European country This quite...</td>\n",
       "    </tr>\n",
       "    <tr>\n",
       "      <th>24</th>\n",
       "      <td>Hiroshi Hasada</td>\n",
       "      <td>I went to see the F1 course.</td>\n",
       "      <td>Rated 3.0 out of 5,</td>\n",
       "      <td>3</td>\n",
       "      <td>2 years ago</td>\n",
       "      <td>went course</td>\n",
       "    </tr>\n",
       "    <tr>\n",
       "      <th>46</th>\n",
       "      <td>Little RF Family</td>\n",
       "      <td>The bell clock often rings every 15 minutes .....</td>\n",
       "      <td>Rated 3.0 out of 5,</td>\n",
       "      <td>3</td>\n",
       "      <td>5 years ago</td>\n",
       "      <td>bell clock often ring every minute crow bird area</td>\n",
       "    </tr>\n",
       "  </tbody>\n",
       "</table>\n",
       "</div>"
      ],
      "text/plain": [
       "         review_name                                        review_text  \\\n",
       "0               青木洋一                      Car chair?\\n\\nWhere to visit?   \n",
       "20     Tomoya Ogoshi  I didn't want to see the hall. . . Sorry. But ...   \n",
       "21     Jessica Woods  I have seen too much of this building in Europ...   \n",
       "24    Hiroshi Hasada                       I went to see the F1 course.   \n",
       "46  Little RF Family  The bell clock often rings every 15 minutes .....   \n",
       "\n",
       "       review_stars_val  review_name_val  review_date  \\\n",
       "0   Rated 3.0 out of 5,                3   a year ago   \n",
       "20  Rated 3.0 out of 5,                3   a year ago   \n",
       "21  Rated 3.0 out of 5,                3  3 years ago   \n",
       "24  Rated 3.0 out of 5,                3  2 years ago   \n",
       "46  Rated 3.0 out of 5,                3  5 years ago   \n",
       "\n",
       "                                         cleaned_text  \n",
       "0                                   chair Where visit  \n",
       "20                 want hall Sorry venerable building  \n",
       "21  seen much building European country This quite...  \n",
       "24                                        went course  \n",
       "46  bell clock often ring every minute crow bird area  "
      ]
     },
     "execution_count": 36,
     "metadata": {},
     "output_type": "execute_result"
    }
   ],
   "source": [
    "#neutral review\n",
    "df_neu= df.loc[df['review_name_val'] == 3]\n",
    "df_neu.head()"
   ]
  },
  {
   "cell_type": "code",
   "execution_count": 37,
   "id": "eb3d7982",
   "metadata": {},
   "outputs": [],
   "source": [
    "vect =TfidfVectorizer(stop_words=stop_words,max_features=10000)\n",
    "vect_text_neu=vect.fit_transform(df_neu['cleaned_text'])"
   ]
  },
  {
   "cell_type": "code",
   "execution_count": 38,
   "id": "624eeb6a",
   "metadata": {},
   "outputs": [],
   "source": [
    "topic=2\n",
    "from sklearn.decomposition import LatentDirichletAllocation\n",
    "lda_model=LatentDirichletAllocation(n_components=topic,\n",
    "learning_method='online',random_state=42,max_iter=1) \n",
    "lda_top_neu=lda_model.fit_transform(vect_text_neu)"
   ]
  },
  {
   "cell_type": "code",
   "execution_count": 39,
   "id": "b817f92e",
   "metadata": {},
   "outputs": [
    {
     "name": "stdout",
     "output_type": "stream",
     "text": [
      "Neutral Document: \n",
      "Topic  0 :  34.76467653679213 %\n",
      "Topic  1 :  65.23532346320788 %\n"
     ]
    }
   ],
   "source": [
    "print(\"Neutral Document: \")\n",
    "for i,topic in enumerate(lda_top_neu[0]):\n",
    "  print(\"Topic \",i,\": \",topic*100,\"%\")"
   ]
  },
  {
   "cell_type": "code",
   "execution_count": 40,
   "id": "8a3ae9f7",
   "metadata": {
    "scrolled": true
   },
   "outputs": [
    {
     "name": "stdout",
     "output_type": "stream",
     "text": [
      "Neutral Topic 0: \n",
      "program n\n",
      "renovated n\n",
      "hall n\n",
      "square n\n",
      "theatre n\n",
      "went n\n",
      "toddler n\n",
      "beautiful n\n",
      "course n\n",
      "angle n\n",
      "Neutral Topic 1: \n",
      "inside n\n",
      "grand n\n",
      "building n\n",
      "concert n\n",
      "though n\n",
      "space n\n",
      "food n\n",
      "good n\n",
      "crow n\n",
      "collection n\n"
     ]
    }
   ],
   "source": [
    "vocab = vect.get_feature_names()\n",
    "for i, comp in enumerate(lda_model.components_):\n",
    "     vocab_comp = zip(vocab, comp)\n",
    "     sorted_words = sorted(vocab_comp, key= lambda x:x[1], reverse=True)[:keyword]\n",
    "     print(\"Neutral Topic \"+str(i)+\": \")\n",
    "     for t in sorted_words:\n",
    "            print(t[0],end=\" \")\n",
    "            print(\"n\")"
   ]
  },
  {
   "cell_type": "code",
   "execution_count": null,
   "id": "1a12bb99",
   "metadata": {},
   "outputs": [],
   "source": []
  },
  {
   "cell_type": "code",
   "execution_count": null,
   "id": "859b5c78",
   "metadata": {},
   "outputs": [],
   "source": []
  },
  {
   "cell_type": "code",
   "execution_count": null,
   "id": "1f293299",
   "metadata": {},
   "outputs": [],
   "source": []
  },
  {
   "cell_type": "code",
   "execution_count": null,
   "id": "a152046c",
   "metadata": {},
   "outputs": [],
   "source": []
  },
  {
   "cell_type": "code",
   "execution_count": null,
   "id": "d1a171a1",
   "metadata": {},
   "outputs": [],
   "source": []
  }
 ],
 "metadata": {
  "kernelspec": {
   "display_name": "Python 3",
   "language": "python",
   "name": "python3"
  },
  "language_info": {
   "codemirror_mode": {
    "name": "ipython",
    "version": 3
   },
   "file_extension": ".py",
   "mimetype": "text/x-python",
   "name": "python",
   "nbconvert_exporter": "python",
   "pygments_lexer": "ipython3",
   "version": "3.8.8"
  }
 },
 "nbformat": 4,
 "nbformat_minor": 5
}
